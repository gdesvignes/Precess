{
 "cells": [
  {
   "cell_type": "markdown",
   "metadata": {},
   "source": [
    "# Modeling the pulsar polarisation data assuming free precession"
   ]
  },
  {
   "cell_type": "code",
   "execution_count": 20,
   "metadata": {},
   "outputs": [],
   "source": [
    "from __future__ import print_function, division\n",
    "import sys\n",
    "import psrchive\n",
    "import numpy as np\n",
    "from ultranest import ReactiveNestedSampler, stepsampler\n",
    "import glob\n",
    "import matplotlib.pyplot as plt\n",
    "import configparser\n",
    "from numba import njit\n",
    "from numba.typed import List\n",
    "from rvm import rvm"
   ]
  },
  {
   "cell_type": "code",
   "execution_count": null,
   "metadata": {},
   "outputs": [],
   "source": []
  },
  {
   "cell_type": "code",
   "execution_count": 21,
   "metadata": {},
   "outputs": [],
   "source": [
    "@njit(fastmath=True)\n",
    "def get_L(cube, have_EFAC, nQ, nU, xm, Qm, Um):\n",
    "    \n",
    "        nfiles = len(xm)\n",
    "        zeta = np.deg2rad(cube[:,0])\n",
    "        betas = np.deg2rad(cube[:,1:1+nfiles])\n",
    "        phi0s = np.deg2rad(cube[:,1+nfiles:1+2*nfiles])\n",
    "        psi0s = np.deg2rad(cube[:,1+2*nfiles:1+3*nfiles])\n",
    "        \n",
    "        if have_EFAC:\n",
    "            EFAC = np.expand_dims(cube[:,1+3*nfiles], -1)\n",
    "        else:\n",
    "            EFAC = np.array([[1.]])\n",
    "        \n",
    "        chi = np.zeros(cube.shape[0])       \n",
    "        logdet = np.zeros(cube.shape[0])\n",
    "        zeta = np.expand_dims(zeta, -1)\n",
    "        for ii in range(nfiles):\n",
    "            \n",
    "            beta = np.expand_dims(betas[:,ii], -1)\n",
    "            phi0 = np.expand_dims(phi0s[:,ii], -1)\n",
    "            psi0 = np.expand_dims(psi0s[:,ii], -1)\n",
    "\n",
    "            nQ2 = nQ[ii]*nQ[ii] * EFAC*EFAC\n",
    "            nU2 = nU[ii]*nU[ii] * EFAC*EFAC\n",
    "\n",
    "            x = np.expand_dims(xm[ii], axis=0)\n",
    "\n",
    "            # Compute the modelled PA            \n",
    "            zb = zeta-beta\n",
    "            sinzb = np.sin(zb)\n",
    "            xp = x-phi0\n",
    "\n",
    "            argx = np.cos(zb)*np.sin(zeta) - sinzb*np.cos(zeta)*np.cos(xp)\n",
    "            argy =  sinzb * np.sin(xp)\n",
    "\n",
    "            PA2 = 2*(-np.arctan(argy/argx) + psi0)\n",
    "            cos2PA = np.cos(PA2)\n",
    "            sin2PA = np.sin(PA2)\n",
    "\n",
    "            L = (Qm[ii] * cos2PA/nQ2 + Um[ii] * sin2PA/nU2) / (cos2PA*cos2PA/nQ2 + sin2PA*sin2PA/nU2) * np.exp(1j*PA2)\n",
    "            \n",
    "            chi += np.sum((Qm[ii]-np.real(L))**2 / nQ2 + (Um[ii]-np.imag(L))**2 / nU2, axis=-1)\n",
    "            logdet += len(Qm[ii]) * np.sum(np.log(nQ2) + np.log(nU2), axis=-1)\n",
    "        return -0.5 * chi -0.5*logdet\n"
   ]
  },
  {
   "cell_type": "code",
   "execution_count": 22,
   "metadata": {},
   "outputs": [],
   "source": [
    "class Precessnest():\n",
    "    def __init__(self, filenames, sig=5, have_EFAC=False, config = None):\n",
    "    \n",
    "        self.nI = np.array([])\n",
    "        self.nQ = np.array([])\n",
    "        self.nU = np.array([])\n",
    "        self.xm = List()\n",
    "        self.Qm = List()\n",
    "        self.Um = List()\n",
    "\n",
    "        self.nfiles = len(filenames)\n",
    "        self.labels = []\n",
    "        self.have_EFAC = have_EFAC\n",
    "        \n",
    "        for filename in filenames:\n",
    "            self.get_data(filename, sig=sig)\n",
    "        \n",
    "        # Check if we have to exclude phase range from the data\n",
    "        if config.has_section('exc_phases'):\n",
    "            self.exc_phs(config['exc_phases'])\n",
    "\n",
    "        self.set_pZeta(config['zeta'])\n",
    "        self.set_pBeta(config['beta'])\n",
    "        self.set_pPhi0(config['phi'])\n",
    "        self.set_pPsi0(config['psi'])         \n",
    "        \n",
    "        for ii in range(self.nfiles):\n",
    "            self.xm[ii] = self.xm[ii].compressed()\n",
    "            self.Qm[ii] = self.Qm[ii].compressed() \n",
    "            self.Um[ii] = self.Um[ii].compressed()\n",
    "       \n",
    "        self.set_labels()\n",
    "\n",
    "    def set_pZeta(self, pZe):\n",
    "        for item in pZe.items():\n",
    "            key = item[0]; val=item[1]\n",
    "\n",
    "        xval = np.array(val.rstrip().split(';'))            \n",
    "        val = xval.astype(float)\n",
    "        self.pZe=(val[0],val[1])\n",
    "        \n",
    "    def __set_range(self, c):\n",
    "        tmp = np.zeros((2, self.nfiles))\n",
    "        for iprof,key in enumerate(c.keys()):            \n",
    "            xval = np.array(c[key].rstrip().split(';'))            \n",
    "            val = xval.astype(float)\n",
    "            tmp[0,iprof] = val[0]; tmp[1,iprof] = val[1]\n",
    "            \n",
    "            if iprof+1 == self.nfiles:\n",
    "                break\n",
    "        return tmp       \n",
    "        \n",
    "    def set_pBeta(self, pBe):\n",
    "        \n",
    "        # Check if we have the right number of inputs vs number of files\n",
    "        if len(pBe) < self.nfiles:\n",
    "            raise ValueError(\"Number of Beta priors in config file (%d) does not match the number of profiles (%d)\"%(len(pBe), self.nfiles))  \n",
    "            \n",
    "        self.pBe = self.__set_range(pBe)\n",
    "        \n",
    "    def set_pPhi0(self, pPh):\n",
    "        # Check if we have the right number of inputs vs number of files\n",
    "        if len(pPh) < self.nfiles:\n",
    "            raise ValueError(\"Number of Phi0 priors in config file (%d) does not match the number of profiles (%d)\"%(len(pBe), self.nfiles))  \n",
    "            \n",
    "        # For each entry in config file for phase range exclusion\n",
    "        self.pPh = self.__set_range(pPh)\n",
    "                \n",
    "    def set_pPsi0(self, pPs):\n",
    "        # Check if we have the right number of inputs vs number of files\n",
    "        if len(pPs) < self.nfiles:\n",
    "            raise ValueError(\"Number of Psi0 priors in config file (%d) does not match the number of profiles (%d)\"%(len(pBe), self.nfiles))  \n",
    "            \n",
    "        # For each entry in config file for phase range exclusion\n",
    "        self.pPs = self.__set_range(pPs)\n",
    "        \n",
    "    def set_labels(self):\n",
    "        self.labels.extend([\"zeta\"])\n",
    "        self.labels.extend(['beta_%d'%i for i in range(self.nfiles)])\n",
    "        self.labels.extend(['phi0_%d'%i for i in range(self.nfiles)])\n",
    "        self.labels.extend(['psi0_%d'%i for i in range(self.nfiles)])      \n",
    "        if self.have_EFAC:\n",
    "            self.labels.extend([\"EFAC\"])\n",
    "   \n",
    "    def get_labels(self):\n",
    "        return self.labels\n",
    "\n",
    "    def Prior(self, cube):\n",
    "\n",
    "        pcube = np.zeros(cube.shape)\n",
    "        ipar = 0\n",
    "\n",
    "        # Zeta\n",
    "        pcube[:,ipar] = cube[:,ipar]*(self.pZe[1]-self.pZe[0])+self.pZe[0]; ipar +=1\n",
    "        pcube[:,ipar:ipar+self.nfiles] = cube[:,ipar:ipar+self.nfiles]*(self.pBe[1]-self.pBe[0])+self.pBe[0]; ipar += self.nfiles\n",
    "        pcube[:,ipar:ipar+self.nfiles] = cube[:,ipar:ipar+self.nfiles]*(self.pPh[1]-self.pPh[0])+self.pPh[0]; ipar += self.nfiles\n",
    "        pcube[:,ipar:ipar+self.nfiles] = cube[:,ipar:ipar+self.nfiles]*(self.pPs[1]-self.pPs[0])+self.pPs[0]; ipar += self.nfiles\n",
    "        \n",
    "        # EFAC\n",
    "        if self.have_EFAC:\n",
    "            pcube[:,ipar] = cube[:,ipar]*2+.3\n",
    "        return pcube\n",
    "        \n",
    "    def get_data(self, filename,sig=5):\n",
    "        print(filename)\n",
    "        ar = psrchive.Archive_load(filename)\n",
    "        ar.tscrunch()\n",
    "        ar.fscrunch()\n",
    "        ar.convert_state('Stokes')\n",
    "        ar.remove_baseline()\n",
    "        #ar.\n",
    "        \n",
    "        self.nbin = ar.get_nbin()\n",
    "\n",
    "        data = ar.get_data()\n",
    "        x = np.arange(0, ar.get_nbin()) / ar.get_nbin()*2*np.pi\n",
    "        I = data[:,0,:,:][0][0]\n",
    "        Q = data[:,1,:,:][0][0]\n",
    "        U = data[:,2,:,:][0][0]\n",
    "        V = data[:,3,:,:][0][0]\n",
    "        L = np.sqrt(Q*Q+U*U)\n",
    "        PA = 0.5*np.arctan2(U,Q)\n",
    "\n",
    "        integ = ar.get_first_Integration()\n",
    "        # Get baseline RMS (1) for total intensity (0)\n",
    "        nI = np.sqrt((integ.baseline_stats()[1][0]))\n",
    "        nQ = np.sqrt((integ.baseline_stats()[1][1]))\n",
    "        nU = np.sqrt((integ.baseline_stats()[1][2]))\n",
    "        \n",
    "        xm = np.ma.masked_where(L<sig*nI,x)\n",
    "        Qm = np.ma.masked_where(L<sig*nI,Q)\n",
    "        Um = np.ma.masked_where(L<sig*nI,U)\n",
    "        \n",
    "        self.nI = np.append(self.nI, nI)\n",
    "        self.nQ = np.append(self.nQ, nQ)\n",
    "        self.nU = np.append(self.nU, nU)\n",
    "        self.xm.append(xm)\n",
    "        self.Qm.append(Qm)\n",
    "        self.Um.append(Um)\n",
    "\n",
    "    def exc_phs(self, exc):\n",
    "        # Check if we have the right number of inputs vs number of files\n",
    "        if len(exc) < self.nfiles:\n",
    "            raise ValueError(\"Number of input in config file (%d) does not match the number of profiles (%d)\"%(len(exc), self.nfiles))\n",
    "            \n",
    "        # For each entry in config file for phase range exclusion\n",
    "        for iprof,key in enumerate(exc.keys()):            \n",
    "            xval = np.array(exc[key].rstrip().split(';'))            \n",
    "            val = xval.astype(float)\n",
    "            # Mask data by range and compress later\n",
    "            pairs = zip(val[::2], val[1::2])\n",
    "            for p in pairs:\n",
    "                print(p)\n",
    "                self.xm[iprof][int(p[0]*self.nbin):int(p[1]*self.nbin)] = np.ma.masked\n",
    "                self.Qm[iprof][int(p[0]*self.nbin):int(p[1]*self.nbin)] = np.ma.masked\n",
    "                self.Um[iprof][int(p[0]*self.nbin):int(p[1]*self.nbin)] = np.ma.masked\n",
    "                \n",
    "            if iprof+1== self.nfiles:\n",
    "                break\n",
    "             \n",
    "       \n",
    "    def LogLikelihood(self, cube):\n",
    "        \n",
    "        return get_L(cube, self.have_EFAC, self.nQ, self.nU, self.xm, self.Qm, self.Um)\n",
    "\n",
    "\n",
    "             \n"
   ]
  },
  {
   "cell_type": "code",
   "execution_count": 32,
   "metadata": {
    "scrolled": false
   },
   "outputs": [
    {
     "data": {
      "text/plain": [
       "['/data/paper_1810/simulations/free/config.ini']"
      ]
     },
     "execution_count": 32,
     "metadata": {},
     "output_type": "execute_result"
    }
   ],
   "source": [
    "# Input filenames\n",
    "filenames = glob.glob(\"/data/paper_1810/simulations/free/sim_*.ar\")\n",
    "cfgfilename = \"/data/paper_1810/simulations/free/config.ini\"\n",
    "\n",
    "# Threshold for L (in sigma)\n",
    "sig = 5\n",
    "\n",
    "have_EFAC = False\n",
    "\n",
    "pZe = (140,180)\n",
    "pBe = (-10,10)\n",
    "pPh = (170,190)\n",
    "pPs = (35,55)\n",
    "\n",
    "cfg = configparser.ConfigParser(allow_no_value=True)\n",
    "cfg.read(cfgfilename)\n",
    "\n"
   ]
  },
  {
   "cell_type": "code",
   "execution_count": 33,
   "metadata": {},
   "outputs": [
    {
     "name": "stdout",
     "output_type": "stream",
     "text": [
      "Ndim = 52\n",
      "\n",
      "/data/paper_1810/simulations/free/sim_0.ar\n",
      "/data/paper_1810/simulations/free/sim_1.ar\n",
      "/data/paper_1810/simulations/free/sim_10.ar\n",
      "/data/paper_1810/simulations/free/sim_11.ar\n",
      "/data/paper_1810/simulations/free/sim_12.ar\n",
      "/data/paper_1810/simulations/free/sim_13.ar\n",
      "/data/paper_1810/simulations/free/sim_14.ar\n",
      "/data/paper_1810/simulations/free/sim_15.ar\n",
      "/data/paper_1810/simulations/free/sim_16.ar\n",
      "/data/paper_1810/simulations/free/sim_2.ar\n",
      "/data/paper_1810/simulations/free/sim_3.ar\n",
      "/data/paper_1810/simulations/free/sim_4.ar\n",
      "/data/paper_1810/simulations/free/sim_5.ar\n",
      "/data/paper_1810/simulations/free/sim_6.ar\n",
      "/data/paper_1810/simulations/free/sim_7.ar\n",
      "/data/paper_1810/simulations/free/sim_8.ar\n",
      "/data/paper_1810/simulations/free/sim_9.ar\n"
     ]
    }
   ],
   "source": [
    "# RUN THE ANALYSIS\n",
    "Ndim = 1 + 3*len(filenames)\n",
    "if have_EFAC == True:\n",
    "    Ndim += 1    \n",
    "print(\"Ndim = %d\\n\"%Ndim)\n",
    "\n",
    "model = Precessnest(filenames, sig=sig, have_EFAC=have_EFAC, config=cfg)\n",
    "\n",
    "paramnames = model.get_labels()\n"
   ]
  },
  {
   "cell_type": "code",
   "execution_count": 34,
   "metadata": {
    "scrolled": false
   },
   "outputs": [
    {
     "name": "stdout",
     "output_type": "stream",
     "text": [
      "Creating directory for new run /data/magnetar-1809-1943/sim/run24\n",
      "[ultranest] Sampling 400 live points from prior ...\n"
     ]
    },
    {
     "data": {
      "application/vnd.jupyter.widget-view+json": {
       "model_id": "03eeecae329d47af88d2ca1dfea9bc6c",
       "version_major": 2,
       "version_minor": 0
      },
      "text/plain": [
       "VBox(children=(HTML(value=''), GridspecLayout(children=(HTML(value=\"<div style='background-color:#6E6BF4;'>&nb…"
      ]
     },
     "metadata": {},
     "output_type": "display_data"
    },
    {
     "name": "stdout",
     "output_type": "stream",
     "text": [
      "Z=-117589.6(0.00%) | Like=-117566.31..-90556.12 [-120123.2598..-115651.1958] | it/evals=2941/373494 eff=0.7883% N=400  \r"
     ]
    },
    {
     "ename": "KeyboardInterrupt",
     "evalue": "",
     "output_type": "error",
     "traceback": [
      "\u001b[0;31m---------------------------------------------------------------------------\u001b[0m",
      "\u001b[0;31mKeyboardInterrupt\u001b[0m                         Traceback (most recent call last)",
      "\u001b[0;32m<timed exec>\u001b[0m in \u001b[0;36m<module>\u001b[0;34m\u001b[0m\n",
      "\u001b[0;32m~/.local/lib/python3.8/site-packages/ultranest/integrator.py\u001b[0m in \u001b[0;36mrun\u001b[0;34m(self, update_interval_volume_fraction, update_interval_ncall, log_interval, show_status, viz_callback, dlogz, dKL, frac_remain, Lepsilon, min_ess, max_iters, max_ncalls, max_num_improvement_loops, min_num_live_points, cluster_num_live_points, insertion_test_window, insertion_test_zscore_threshold, region_class)\u001b[0m\n\u001b[1;32m   2168\u001b[0m             \u001b[0;32mor\u001b[0m \u001b[0mjust\u001b[0m \u001b[0mellipsoidal\u001b[0m \u001b[0msampling\u001b[0m \u001b[0;34m(\u001b[0m\u001b[0mfaster\u001b[0m \u001b[0;32mfor\u001b[0m \u001b[0mhigh\u001b[0m\u001b[0;34m-\u001b[0m\u001b[0mdimensional\u001b[0m\u001b[0;34m,\u001b[0m \u001b[0mgaussian\u001b[0m\u001b[0;34m-\u001b[0m\u001b[0mlike\u001b[0m \u001b[0mproblems\u001b[0m\u001b[0;34m)\u001b[0m\u001b[0;34m.\u001b[0m\u001b[0;34m\u001b[0m\u001b[0;34m\u001b[0m\u001b[0m\n\u001b[1;32m   2169\u001b[0m         \"\"\"\n\u001b[0;32m-> 2170\u001b[0;31m         for result in self.run_iter(\n\u001b[0m\u001b[1;32m   2171\u001b[0m             \u001b[0mupdate_interval_volume_fraction\u001b[0m\u001b[0;34m=\u001b[0m\u001b[0mupdate_interval_volume_fraction\u001b[0m\u001b[0;34m,\u001b[0m\u001b[0;34m\u001b[0m\u001b[0;34m\u001b[0m\u001b[0m\n\u001b[1;32m   2172\u001b[0m             \u001b[0mupdate_interval_ncall\u001b[0m\u001b[0;34m=\u001b[0m\u001b[0mupdate_interval_ncall\u001b[0m\u001b[0;34m,\u001b[0m\u001b[0;34m\u001b[0m\u001b[0;34m\u001b[0m\u001b[0m\n",
      "\u001b[0;32m~/.local/lib/python3.8/site-packages/ultranest/integrator.py\u001b[0m in \u001b[0;36mrun_iter\u001b[0;34m(self, update_interval_volume_fraction, update_interval_ncall, log_interval, dlogz, dKL, frac_remain, Lepsilon, min_ess, max_iters, max_ncalls, max_num_improvement_loops, min_num_live_points, cluster_num_live_points, show_status, viz_callback, insertion_test_window, insertion_test_zscore_threshold, region_class)\u001b[0m\n\u001b[1;32m   2428\u001b[0m \u001b[0;34m\u001b[0m\u001b[0m\n\u001b[1;32m   2429\u001b[0m                     \u001b[0;31m# sample point\u001b[0m\u001b[0;34m\u001b[0m\u001b[0;34m\u001b[0m\u001b[0;34m\u001b[0m\u001b[0m\n\u001b[0;32m-> 2430\u001b[0;31m                     \u001b[0mu\u001b[0m\u001b[0;34m,\u001b[0m \u001b[0mp\u001b[0m\u001b[0;34m,\u001b[0m \u001b[0mL\u001b[0m \u001b[0;34m=\u001b[0m \u001b[0mself\u001b[0m\u001b[0;34m.\u001b[0m\u001b[0m_create_point\u001b[0m\u001b[0;34m(\u001b[0m\u001b[0mLmin\u001b[0m\u001b[0;34m=\u001b[0m\u001b[0mLmin\u001b[0m\u001b[0;34m,\u001b[0m \u001b[0mndraw\u001b[0m\u001b[0;34m=\u001b[0m\u001b[0mndraw\u001b[0m\u001b[0;34m,\u001b[0m \u001b[0mactive_u\u001b[0m\u001b[0;34m=\u001b[0m\u001b[0mactive_u\u001b[0m\u001b[0;34m,\u001b[0m \u001b[0mactive_values\u001b[0m\u001b[0;34m=\u001b[0m\u001b[0mactive_values\u001b[0m\u001b[0;34m)\u001b[0m\u001b[0;34m\u001b[0m\u001b[0;34m\u001b[0m\u001b[0m\n\u001b[0m\u001b[1;32m   2431\u001b[0m                     \u001b[0mchild\u001b[0m \u001b[0;34m=\u001b[0m \u001b[0mself\u001b[0m\u001b[0;34m.\u001b[0m\u001b[0mpointpile\u001b[0m\u001b[0;34m.\u001b[0m\u001b[0mmake_node\u001b[0m\u001b[0;34m(\u001b[0m\u001b[0mL\u001b[0m\u001b[0;34m,\u001b[0m \u001b[0mu\u001b[0m\u001b[0;34m,\u001b[0m \u001b[0mp\u001b[0m\u001b[0;34m)\u001b[0m\u001b[0;34m\u001b[0m\u001b[0;34m\u001b[0m\u001b[0m\n\u001b[1;32m   2432\u001b[0m                     \u001b[0mmain_iterator\u001b[0m\u001b[0;34m.\u001b[0m\u001b[0mLmax\u001b[0m \u001b[0;34m=\u001b[0m \u001b[0mmax\u001b[0m\u001b[0;34m(\u001b[0m\u001b[0mmain_iterator\u001b[0m\u001b[0;34m.\u001b[0m\u001b[0mLmax\u001b[0m\u001b[0;34m,\u001b[0m \u001b[0mL\u001b[0m\u001b[0;34m)\u001b[0m\u001b[0;34m\u001b[0m\u001b[0;34m\u001b[0m\u001b[0m\n",
      "\u001b[0;32m~/.local/lib/python3.8/site-packages/ultranest/integrator.py\u001b[0m in \u001b[0;36m_create_point\u001b[0;34m(self, Lmin, ndraw, active_u, active_values)\u001b[0m\n\u001b[1;32m   1702\u001b[0m                     \u001b[0mquality\u001b[0m \u001b[0;34m=\u001b[0m \u001b[0mself\u001b[0m\u001b[0;34m.\u001b[0m\u001b[0mstepsampler\u001b[0m\u001b[0;34m.\u001b[0m\u001b[0mnsteps\u001b[0m\u001b[0;34m\u001b[0m\u001b[0;34m\u001b[0m\u001b[0m\n\u001b[1;32m   1703\u001b[0m                 \u001b[0;32melse\u001b[0m\u001b[0;34m:\u001b[0m\u001b[0;34m\u001b[0m\u001b[0;34m\u001b[0m\u001b[0m\n\u001b[0;32m-> 1704\u001b[0;31m                     \u001b[0mu\u001b[0m\u001b[0;34m,\u001b[0m \u001b[0mv\u001b[0m\u001b[0;34m,\u001b[0m \u001b[0mlogl\u001b[0m\u001b[0;34m,\u001b[0m \u001b[0mnc\u001b[0m\u001b[0;34m,\u001b[0m \u001b[0mquality\u001b[0m \u001b[0;34m=\u001b[0m \u001b[0mself\u001b[0m\u001b[0;34m.\u001b[0m\u001b[0m_refill_samples\u001b[0m\u001b[0;34m(\u001b[0m\u001b[0mLmin\u001b[0m\u001b[0;34m,\u001b[0m \u001b[0mndraw\u001b[0m\u001b[0;34m,\u001b[0m \u001b[0mnit\u001b[0m\u001b[0;34m)\u001b[0m\u001b[0;34m\u001b[0m\u001b[0;34m\u001b[0m\u001b[0m\n\u001b[0m\u001b[1;32m   1705\u001b[0m                 \u001b[0mnit\u001b[0m \u001b[0;34m+=\u001b[0m \u001b[0;36m1\u001b[0m\u001b[0;34m\u001b[0m\u001b[0;34m\u001b[0m\u001b[0m\n\u001b[1;32m   1706\u001b[0m \u001b[0;34m\u001b[0m\u001b[0m\n",
      "\u001b[0;32m~/.local/lib/python3.8/site-packages/ultranest/integrator.py\u001b[0m in \u001b[0;36m_refill_samples\u001b[0;34m(self, Lmin, ndraw, nit)\u001b[0m\n\u001b[1;32m   1609\u001b[0m \u001b[0;34m\u001b[0m\u001b[0m\n\u001b[1;32m   1610\u001b[0m             \u001b[0;32mif\u001b[0m \u001b[0mnt\u001b[0m \u001b[0;34m>\u001b[0m \u001b[0;36m0\u001b[0m\u001b[0;34m:\u001b[0m\u001b[0;34m\u001b[0m\u001b[0;34m\u001b[0m\u001b[0m\n\u001b[0;32m-> 1611\u001b[0;31m                 \u001b[0mlogl\u001b[0m\u001b[0;34m[\u001b[0m\u001b[0maccepted\u001b[0m\u001b[0;34m]\u001b[0m \u001b[0;34m=\u001b[0m \u001b[0mself\u001b[0m\u001b[0;34m.\u001b[0m\u001b[0mloglike\u001b[0m\u001b[0;34m(\u001b[0m\u001b[0mv\u001b[0m\u001b[0;34m[\u001b[0m\u001b[0maccepted\u001b[0m\u001b[0;34m,\u001b[0m \u001b[0;34m:\u001b[0m\u001b[0;34m]\u001b[0m\u001b[0;34m)\u001b[0m\u001b[0;34m\u001b[0m\u001b[0;34m\u001b[0m\u001b[0m\n\u001b[0m\u001b[1;32m   1612\u001b[0m                 \u001b[0mnc\u001b[0m \u001b[0;34m+=\u001b[0m \u001b[0mnt\u001b[0m\u001b[0;34m\u001b[0m\u001b[0;34m\u001b[0m\u001b[0m\n\u001b[1;32m   1613\u001b[0m             \u001b[0maccepted\u001b[0m \u001b[0;34m=\u001b[0m \u001b[0mlogl\u001b[0m \u001b[0;34m>\u001b[0m \u001b[0mLmin\u001b[0m\u001b[0;34m\u001b[0m\u001b[0;34m\u001b[0m\u001b[0m\n",
      "\u001b[0;32m/tmp/ipykernel_25060/4187408426.py\u001b[0m in \u001b[0;36mLogLikelihood\u001b[0;34m(self, cube)\u001b[0m\n\u001b[1;32m    162\u001b[0m     \u001b[0;32mdef\u001b[0m \u001b[0mLogLikelihood\u001b[0m\u001b[0;34m(\u001b[0m\u001b[0mself\u001b[0m\u001b[0;34m,\u001b[0m \u001b[0mcube\u001b[0m\u001b[0;34m)\u001b[0m\u001b[0;34m:\u001b[0m\u001b[0;34m\u001b[0m\u001b[0;34m\u001b[0m\u001b[0m\n\u001b[1;32m    163\u001b[0m \u001b[0;34m\u001b[0m\u001b[0m\n\u001b[0;32m--> 164\u001b[0;31m         \u001b[0;32mreturn\u001b[0m \u001b[0mget_L\u001b[0m\u001b[0;34m(\u001b[0m\u001b[0mcube\u001b[0m\u001b[0;34m,\u001b[0m \u001b[0mself\u001b[0m\u001b[0;34m.\u001b[0m\u001b[0mhave_EFAC\u001b[0m\u001b[0;34m,\u001b[0m \u001b[0mself\u001b[0m\u001b[0;34m.\u001b[0m\u001b[0mnQ\u001b[0m\u001b[0;34m,\u001b[0m \u001b[0mself\u001b[0m\u001b[0;34m.\u001b[0m\u001b[0mnU\u001b[0m\u001b[0;34m,\u001b[0m \u001b[0mself\u001b[0m\u001b[0;34m.\u001b[0m\u001b[0mxm\u001b[0m\u001b[0;34m,\u001b[0m \u001b[0mself\u001b[0m\u001b[0;34m.\u001b[0m\u001b[0mQm\u001b[0m\u001b[0;34m,\u001b[0m \u001b[0mself\u001b[0m\u001b[0;34m.\u001b[0m\u001b[0mUm\u001b[0m\u001b[0;34m)\u001b[0m\u001b[0;34m\u001b[0m\u001b[0;34m\u001b[0m\u001b[0m\n\u001b[0m\u001b[1;32m    165\u001b[0m \u001b[0;34m\u001b[0m\u001b[0m\n\u001b[1;32m    166\u001b[0m \u001b[0;34m\u001b[0m\u001b[0m\n",
      "\u001b[0;32m~/.local/lib/python3.8/site-packages/numba/core/serialize.py\u001b[0m in \u001b[0;36m_numba_unpickle\u001b[0;34m(address, bytedata, hashed)\u001b[0m\n\u001b[1;32m     27\u001b[0m \u001b[0;34m\u001b[0m\u001b[0m\n\u001b[1;32m     28\u001b[0m \u001b[0;34m\u001b[0m\u001b[0m\n\u001b[0;32m---> 29\u001b[0;31m \u001b[0;32mdef\u001b[0m \u001b[0m_numba_unpickle\u001b[0m\u001b[0;34m(\u001b[0m\u001b[0maddress\u001b[0m\u001b[0;34m,\u001b[0m \u001b[0mbytedata\u001b[0m\u001b[0;34m,\u001b[0m \u001b[0mhashed\u001b[0m\u001b[0;34m)\u001b[0m\u001b[0;34m:\u001b[0m\u001b[0;34m\u001b[0m\u001b[0;34m\u001b[0m\u001b[0m\n\u001b[0m\u001b[1;32m     30\u001b[0m     \"\"\"Used by `numba_unpickle` from _helperlib.c\n\u001b[1;32m     31\u001b[0m \u001b[0;34m\u001b[0m\u001b[0m\n",
      "\u001b[0;31mKeyboardInterrupt\u001b[0m: "
     ]
    }
   ],
   "source": [
    "%%time\n",
    "sampler = ReactiveNestedSampler(paramnames, model.LogLikelihood, transform=model.Prior, vectorized=True, log_dir=\"/data/magnetar-1809-1943/sim/\")\n",
    "#nsteps = 2 * len(paramnames)\n",
    "# create step sampler:\n",
    "#sampler.stepsampler = stepsampler.RegionSliceSampler(nsteps=nsteps, adaptive_nsteps='move-distance')\n",
    "#sampler.stepsampler = stepsampler.RegionSliceSampler(nsteps=400, adaptive_nsteps='move-distance')\n",
    "res = sampler.run()\n"
   ]
  },
  {
   "cell_type": "code",
   "execution_count": 25,
   "metadata": {
    "scrolled": false
   },
   "outputs": [
    {
     "name": "stdout",
     "output_type": "stream",
     "text": [
      "\n",
      "logZ = 10998.702 +- 0.555\n",
      "  single instance: logZ = 10998.702 +- 0.370\n",
      "  bootstrapped   : logZ = 10998.736 +- 0.555\n",
      "  tail           : logZ = +- 0.010\n",
      "insert order U test : converged: True correlation: inf iterations\n",
      "\n",
      "    zeta                : 156.0 │ ▁▁ ▁▁▁▁▁▁▂▂▃▄▄▅▇▇▇▇▇▇▆▅▅▃▃▂▂▁▁▁▁▁▁▁ ▁ │178.0     167.2 +- 2.7\n",
      "    beta_0              : -5.56 │ ▁  ▁▁▁▁▁▁▂▂▃▄▄▅▇▆▇▇▇▇▆▅▅▃▃▂▂▁▁▁▁▁▁▁ ▁ │-0.49     -2.99 +- 0.62\n",
      "    beta_1              : -3.99 │ ▁  ▁▁▁▁▁▁▂▂▃▄▄▅▇▇▇▇▇▇▆▅▅▃▃▂▂▁▁▁▁▁▁▁ ▁ │-0.34     -2.15 +- 0.44\n",
      "    beta_2              : -2.39 │ ▁▁ ▁▁▁▁▁▁▂▂▃▃▄▅▇▇▇▇▇▇▆▅▅▃▃▂▂▁▁▁▁▁▁▁ ▁ │-0.21     -1.28 +- 0.26\n",
      "    beta_3              : -0.799│ ▁▁ ▁▁▁▁▁▁▂▂▃▄▄▅▇▇▇▇▇▇▇▆▅▄▃▂▂▁▁▁▁▁▁▁ ▁ │-0.070    -0.429 +- 0.088\n",
      "    phi0_0              : 179.75│ ▁▁▁▁▁▁▁▁▁▂▃▃▄▄▆▇▆▇▇▇▇▆▅▄▃▃▂▁▁▁▁▁▁▁▁▁▁ │180.62    180.18 +- 0.10\n",
      "    phi0_1              : 179.576│ ▁▁▁▁▁▁▁▁▁▂▂▃▄▅▆▆▇▇▇▇▇▆▅▄▃▂▂▁▁▁▁▁▁▁▁▁▁ │180.169    179.865 +- 0.067\n",
      "    phi0_2              : 179.801│ ▁ ▁ ▁▁▁▁▁▁▁▂▂▄▄▆▇▇▇▇▇▆▅▄▃▂▂▂▁▁▁▁▁▁  ▁ │180.135    179.970 +- 0.036\n",
      "    phi0_3              : 179.958│ ▁▁▁▁▁▁▁▁▂▂▃▄▄▅▆▇▇▇▇▇▅▅▄▃▂▂▁▁▁▁▁▁▁▁▁▁▁ │180.073    180.011 +- 0.013\n",
      "    psi0_0              : 44.23 │ ▁▁▁▁▁▁▁▁▁▁▂▃▄▄▆▇▇▇▇▇▇▆▅▄▃▃▂▂▁▁▁▁▁▁▁▁▁ │46.55     45.38 +- 0.28\n",
      "    psi0_1              : 43.49 │ ▁  ▁▁▁▁▁▁▁▂▃▃▄▅▆▇▇▆▆▆▄▄▃▃▂▁▁▁▁▁▁▁▁  ▁ │45.72     44.56 +- 0.24\n",
      "    psi0_2              : 43.83 │ ▁    ▁▁▁▁▁▁▁▂▃▄▅▆▇▇▇▇▇▇▅▄▃▂▂▁▁▁▁▁▁▁▁▁ │45.80     44.88 +- 0.21\n",
      "    psi0_3              : 44.50 │ ▁▁▁▁▁▁▁▁▂▂▃▄▅▆▆▇▇▇▇▇▆▅▄▄▂▂▁▁▁▁▁▁▁▁▁▁▁ │45.83     45.12 +- 0.16\n",
      "\n"
     ]
    }
   ],
   "source": [
    "sampler.print_results()"
   ]
  },
  {
   "cell_type": "code",
   "execution_count": 450,
   "metadata": {
    "scrolled": false
   },
   "outputs": [],
   "source": [
    "#sampler.plot_corner()"
   ]
  },
  {
   "cell_type": "code",
   "execution_count": 24,
   "metadata": {
    "scrolled": false
   },
   "outputs": [
    {
     "data": {
      "text/plain": [
       "Text(0, 0.5, 'PA (deg)')"
      ]
     },
     "execution_count": 24,
     "metadata": {},
     "output_type": "execute_result"
    },
    {
     "data": {
      "image/png": "[encoded data removed]",
      "text/plain": [
       "<Figure size 432x288 with 1 Axes>"
      ]
     },
     "metadata": {
      "needs_background": "light"
     },
     "output_type": "display_data"
    }
   ],
   "source": [
    "iprof = 0\n",
    "L = (model.Um[iprof]**2 + model.Qm[iprof]**2)**.5\n",
    "PA = np.rad2deg(0.5*np.arctan2(model.Um[iprof][:],model.Qm[iprof][:]))\n",
    "PAe = 28.65 * model.nI[iprof]/ L\n",
    "plt.errorbar(x=np.rad2deg(model.xm[iprof]), y=PA, yerr=PAe,\n",
    "             marker='o', ls=' ', color='orange',zorder=-5)\n",
    "\n",
    "t_grid = np.linspace(0, 360, 400)\n",
    "\n",
    "from ultranest.plot import PredictionBand\n",
    "band = PredictionBand(t_grid)\n",
    "\n",
    "for l in sampler.results['samples']:\n",
    "\n",
    "    zeta = l[0]\n",
    "    beta = l[1+iprof:2+iprof]\n",
    "    phi0 = l[1+model.nfiles+iprof:2+model.nfiles+iprof]\n",
    "    psi0 = l[1+2*model.nfiles+iprof:2+2*model.nfiles+iprof]\n",
    "    band.add(np.rad2deg(rvm.rvm(t_grid,zeta,beta,phi0,psi0)))\n",
    "    \n",
    "    \n",
    "band.line(color='k')\n",
    "# add 1 sigma quantile\n",
    "band.shade(color='k', alpha=0.3)\n",
    "# add wider quantile (0.01 .. 0.99)\n",
    "band.shade(q=0.49, color='gray', alpha=0.2)\n",
    "plt.xlim(120,180)\n",
    "plt.ylim(-10,80)\n",
    "plt.xlabel(\"Pulse Phase (deg)\")\n",
    "plt.ylabel(\"PA (deg)\")"
   ]
  },
  {
   "cell_type": "code",
   "execution_count": 47,
   "metadata": {
    "scrolled": false
   },
   "outputs": [
    {
     "name": "stdout",
     "output_type": "stream",
     "text": [
      "CPU times: user 99.4 ms, sys: 10.1 ms, total: 109 ms\n",
      "Wall time: 108 ms\n"
     ]
    }
   ],
   "source": [
    "%%time\n",
    "a = model.LogLikelihood(np.ones((400,53)))"
   ]
  },
  {
   "cell_type": "code",
   "execution_count": null,
   "metadata": {
    "scrolled": false
   },
   "outputs": [],
   "source": []
  },
  {
   "cell_type": "code",
   "execution_count": null,
   "metadata": {},
   "outputs": [],
   "source": []
  },
  {
   "cell_type": "code",
   "execution_count": null,
   "metadata": {},
   "outputs": [],
   "source": []
  },
  {
   "cell_type": "code",
   "execution_count": null,
   "metadata": {},
   "outputs": [],
   "source": []
  },
  {
   "cell_type": "code",
   "execution_count": null,
   "metadata": {},
   "outputs": [],
   "source": []
  }
 ],
 "metadata": {
  "kernelspec": {
   "display_name": "Python 3 (ipykernel)",
   "language": "python",
   "name": "python3"
  },
  "language_info": {
   "codemirror_mode": {
    "name": "ipython",
    "version": 3
   },
   "file_extension": ".py",
   "mimetype": "text/x-python",
   "name": "python",
   "nbconvert_exporter": "python",
   "pygments_lexer": "ipython3",
   "version": "3.8.10"
  }
 },
 "nbformat": 4,
 "nbformat_minor": 2
}
